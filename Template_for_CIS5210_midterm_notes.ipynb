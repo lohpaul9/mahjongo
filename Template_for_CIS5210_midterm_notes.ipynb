{
  "nbformat": 4,
  "nbformat_minor": 0,
  "metadata": {
    "colab": {
      "provenance": [],
      "include_colab_link": true
    },
    "kernelspec": {
      "name": "python3",
      "display_name": "Python 3"
    },
    "language_info": {
      "name": "python"
    }
  },
  "cells": [
    {
      "cell_type": "markdown",
      "metadata": {
        "id": "view-in-github",
        "colab_type": "text"
      },
      "source": [
        "<a href=\"https://colab.research.google.com/github/lohpaul9/mahjongo/blob/main/Template_for_CIS5210_midterm_notes.ipynb\" target=\"_parent\"><img src=\"https://colab.research.google.com/assets/colab-badge.svg\" alt=\"Open In Colab\"/></a>"
      ]
    },
    {
      "cell_type": "markdown",
      "metadata": {
        "id": "brNDGX-kvzds"
      },
      "source": [
        "# Template for Notes for CIS 5210 Midterm 1\n",
        "\n",
        "The midterm exam for CIS 5210 will be **open notes**. No other matierals are allowed for the exam - you may not use the textbook, the internet, a Python environment, or communicate with anyone during the exam.\n",
        "\n",
        "This python notebook is where you should save all of your notes.  It provides a structured template that allows you to add summaries for each of the textbook sections that are part of the required reading, plus room for lecture notes and definitions.\n",
        "\n",
        "Your summaries must be written in your own words.  Do not copy and paste from the textbook.  Do not share your notes with classmates, or copy any of your classmates' notes.  "
      ]
    },
    {
      "cell_type": "markdown",
      "metadata": {
        "id": "aPtM8g7R0Pds"
      },
      "source": [
        "# Instructions\n",
        "\n",
        "1. Make a copy of this Google Colab file. From the colab menu, pick **File > Save a copy in Drive**.  That will save a copy of this notebook in your Google drive.\n",
        "2. Go through each section of the notebook, and fill in all the summaries for each chapter and its corresponding sections.  Be sure to save your work frequently!\n",
        "3. Read the notes below about how you can format your summaries.\n",
        "4. Submit your version of this notebook to Gradescope before you start the exam.\n",
        "5. If you are taking the exam in person, then you must print a copy of your notes for yourself.   Here's how to print:\n",
        "* Run the last cell of this notebook\n",
        "* Click the \"Mirror cell in tab\" button (this is located in the upper right corner of the cell, immediately to the right of the trash can).  This will open the cell.  \n",
        "* Copy and paste the contents of that cell into Google Docs or Microsoft Words.  \n",
        "* Use your word editor to save as a PDF that you can print.\n",
        "\n",
        "## Formatting Notes\n",
        "\n",
        "1. The max length for each section's summary is 500 words / 3000 characters.\n",
        "2. You can also write a 2000 word summary of the lectures for each module.\n",
        "3. You may also write definitions of concepts for each module.  The definitions should be written in your own words (not copy and pasted), and they should be no more than 20 words long for each concept.\n",
        "2. You can use Markdown formatting for your summaries.\n",
        "4. You can use Latex formatting for equations. Put two dollar signs before and after your equation like this:\n",
        "$$ \\epsilon = \\frac{1}{mc^2} $$\n",
        "5. When you write python code or psuedocode algorithms, you should surround it with triple backticks like this\n",
        "\\`\\`\\` def function(): ... \\`\\`\\`\n",
        "This will nicely format you code like this.\n",
        "\n",
        "```\n",
        "def function():\n",
        "      print('hello world')\n",
        "```\n",
        "6. Write \\ whenever you want to keep writing on the next line without a newline being inserted."
      ]
    },
    {
      "cell_type": "markdown",
      "metadata": {
        "id": "cw5IpDLCZa4W"
      },
      "source": [
        "## Example summary\n",
        "\n",
        "This is a sample summary of [Section 2.1.1](https://web.stanford.edu/~jurafsky/slp3/2.pdf ) of Jurfasky and Martin's Speech and Language Processing's book\n"
      ]
    },
    {
      "cell_type": "code",
      "metadata": {
        "id": "lzaavW96tcxM",
        "colab": {
          "base_uri": "https://localhost:8080/"
        },
        "outputId": "61fbaedb-7c75-4afa-bb56-524a2c43aaf3"
      },
      "source": [
        "chapter_2_1_example = \"\"\"\n",
        "Regular expressions are an algebraic notation for characterizing \\\n",
        "a set of strings that are useful for searching for a pattern or through a corpus.\\\n",
        "Only the first matching result will be shown. The search string is case sensitive, \\\n",
        "but it can consist of a single character or a sequence of characters. \\\n",
        "While square braces specify a disjunction of characters, the dash can more easily look \\\n",
        "for characters over a range. The caret specifies the non-existence of a character. \\\n",
        "Additionally, the (?) is used to for flexibility on a single character, meaning \\\n",
        "\"the preceding character or nothing\". More importantly, the Kleene star means zero or \\\n",
        "more occurrences of the immediately previous character or regular expression in square braces.\\\n",
        "...\n",
        "\"\"\"\n",
        "\n",
        "length = len(chapter_2_1_example.split(\" \"))\n",
        "print(\"The example summary is {len} words long, so you could write an additional \\\n",
        "{remaining} words.\".format(len=length, remaining=(500-length)))"
      ],
      "execution_count": null,
      "outputs": [
        {
          "output_type": "stream",
          "name": "stdout",
          "text": [
            "The example summary is 116 words long, so you could write an additional 384 words.\n"
          ]
        }
      ]
    },
    {
      "cell_type": "markdown",
      "metadata": {
        "id": "s3Uk9gQTevcj"
      },
      "source": [
        "## Example summary length\n",
        "\n",
        "The maximum summary length for each section is 500 words / 3000 characters.  Hopefully you'll find that to be quite generous."
      ]
    },
    {
      "cell_type": "code",
      "metadata": {
        "id": "8DvZ57A-djo1",
        "colab": {
          "base_uri": "https://localhost:8080/"
        },
        "outputId": "54c9a690-ff4c-4f03-ef41-bdfe635fa895"
      },
      "source": [
        "# This is an example of a 500 word placeholder\n",
        "placeholder = \"\"\"ultrices vitae auctor eu augue ut lectus arcu bibendum at varius \\\n",
        " vel pharetra vel turpis nunc eget lorem dolor sed viverra ipsum nunc aliquet \\\n",
        " bibendum enim facilisis gravida neque convallis a cras semper auctor neque vitae \\\n",
        " tempus quam pellentesque nec nam aliquam sem et tortor consequat id porta nibh \\\n",
        " venenatis cras sed felis eget velit aliquet sagittis id consectetur purus ut \\\n",
        " faucibus pulvinar elementum integer enim neque volutpat ac tincidunt vitae semper \\\n",
        " quis lectus nulla at volutpat diam ut venenatis tellus in metus vulputate eu \\\n",
        " scelerisque felis imperdiet proin fermentum leo vel orci porta non pulvinar neque \\\n",
        " laoreet suspendisse interdum consectetur libero id faucibus nisl tincidunt eget \\\n",
        " nullam non nisi est sit amet facilisis magna etiam tempor orci eu lobortis \\\n",
        " elementum nibh tellus molestie nunc non blandit massa enim nec dui nunc mattis \\\n",
        " enim ut tellus elementum sagittis vitae et leo duis ut diam quam nulla porttitor \\\n",
        " massa id neque aliquam vestibulum morbi blandit cursus risus at ultrices mi tempus \\\n",
        " imperdiet nulla malesuada pellentesque elit eget gravida cum sociis natoque \\\n",
        " penatibus et magnis dis parturient montes nascetur ridiculus mus mauris vitae \\\n",
        " ultricies leo integer malesuada nunc vel risus commodo viverra maecenas accumsan \\\n",
        " lacus vel facilisis volutpat est velit egestas dui id ornare arcu odio ut sem nulla \\\n",
        " pharetra diam sit amet nisl suscipit adipiscing bibendum est ultricies integer \\\n",
        " quis auctor elit sed vulputate mi sit amet mauris commodo quis imperdiet massa \\\n",
        " tincidunt nunc pulvinar sapien et ligula ullamcorper malesuada proin libero nunc \\\n",
        " consequat interdum varius sit amet mattis vulputate enim nulla aliquet porttitor \\\n",
        " lacus luctus accumsan tortor posuere ac ut consequat semper viverra nam libero \\\n",
        " justo laoreet sit amet cursus sit amet dictum sit amet justo donec enim diam \\\n",
        " vulputate ut pharetra sit amet aliquam id diam maecenas ultricies mi eget mauris \\\n",
        " pharetra et ultrices neque ornare aenean euismod elementum nisi quis eleifend quam \\\n",
        " adipiscing vitae proin sagittis nisl rhoncus mattis rhoncus urna neque viverra justo \\\n",
        " nec ultrices dui sapien eget mi proin sed libero enim sed faucibus turpis in \\\n",
        " eu mi bibendum neque egestas congue quisque egestas diam in arcu cursus euismod \\\n",
        " quis viverra nibh cras pulvinar mattis nunc sed blandit libero volutpat sed cras \\\n",
        " ornare arcu dui vivamus arcu felis bibendum ut tristique et egestas quis ipsum \\\n",
        " suspendisse ultrices gravida dictum fusce ut placerat orci nulla pellentesque \\\n",
        " dignissim enim sit amet venenatis urna cursus eget nunc scelerisque viverra mauris \\\n",
        " in aliquam sem fringilla ut morbi tincidunt augue interdum velit euismod in \\\n",
        " pellentesque massa placerat duis ultricies lacus sed turpis tincidunt id aliquet \\\n",
        " risus feugiat in ante metus dictum at tempor commodo ullamcorper a lacus vestibulum \\\n",
        " sed arcu non odio euismod lacinia at quis risus sed vulputate odio ut enim blandit \\\n",
        " volutpat maecenas volutpat blandit aliquam etiam erat velit scelerisque in \\\n",
        " dictum non consectetur a erat nam at lectus urna\"\"\"\n",
        "\n",
        "print(\"The length in words is\", len(placeholder.split(' ')))\n",
        "print(\"The length in characters is\", len(placeholder))"
      ],
      "execution_count": null,
      "outputs": [
        {
          "output_type": "stream",
          "name": "stdout",
          "text": [
            "The length in words is 500\n",
            "The length in characters is 3030\n"
          ]
        }
      ]
    },
    {
      "cell_type": "markdown",
      "metadata": {
        "id": "5yG3-YncJfTB"
      },
      "source": [
        "# Permissions to use your summaries\n",
        "\n",
        "We'd like to use your summaries to help develop better educational resources like [remember.school](https://remember.school) or a question-answering system about the textbook.  \n",
        "\n",
        "1. Please enter your name.  \n",
        "\n",
        "2. If you grant permission for us to use your summaries under a [Creative Commons License](https://creativecommons.org/licenses/by/4.0/), please set ```permission = True```.  If you do not grant permission, please set it to false. Your answer won't affect your grade.\n",
        "\n",
        "3. If you grant us permission, and you'd like to remain anonymous, set ```anonymous = True```.  We'll remove your name before sharing your summaries with anyone."
      ]
    },
    {
      "cell_type": "code",
      "metadata": {
        "id": "2RECnJArJew4"
      },
      "source": [
        "name = \"\"\n",
        "permission = True\n",
        "anonymous = False"
      ],
      "execution_count": null,
      "outputs": []
    },
    {
      "cell_type": "markdown",
      "source": [
        "# List of Figures from AIMA\n"
      ],
      "metadata": {
        "id": "hIWGPvmRQAYe"
      }
    },
    {
      "cell_type": "code",
      "source": [
        "#@title List of all figures and their URLs\n",
        "#@markdown You don't need to modify anything in this cell. Just run this cell by pressing the 'play' button to load in a list of URLs for images of the textbook figures.\n",
        "\n",
        "AIMA_figures = {\n",
        "\t'Figure 1.1': 'https://www.cis.upenn.edu/~ccb/data/smart-textbook/AIMA_figures/figure_1.1.jpg',\n",
        "\t'Figure 1.2': 'https://www.cis.upenn.edu/~ccb/data/smart-textbook/AIMA_figures/figure_1.2.jpg',\n",
        "\t'Figure 1.3': 'https://www.cis.upenn.edu/~ccb/data/smart-textbook/AIMA_figures/figure_1.3.jpg',\n",
        "\t'Figure 10.1': 'https://www.cis.upenn.edu/~ccb/data/smart-textbook/AIMA_figures/figure_10.1.jpg',\n",
        "\t'Figure 10.2': 'https://www.cis.upenn.edu/~ccb/data/smart-textbook/AIMA_figures/figure_10.2.jpg',\n",
        "\t'Figure 10.3': 'https://www.cis.upenn.edu/~ccb/data/smart-textbook/AIMA_figures/figure_10.3.jpg',\n",
        "\t'Figure 10.4': 'https://www.cis.upenn.edu/~ccb/data/smart-textbook/AIMA_figures/figure_10.4.jpg',\n",
        "\t'Figure 10.5': 'https://www.cis.upenn.edu/~ccb/data/smart-textbook/AIMA_figures/figure_10.5.jpg',\n",
        "\t'Figure 10.6': 'https://www.cis.upenn.edu/~ccb/data/smart-textbook/AIMA_figures/figure_10.6.jpg',\n",
        "\t'Figure 11.10': 'https://www.cis.upenn.edu/~ccb/data/smart-textbook/AIMA_figures/figure_11.10.jpg',\n",
        "\t'Figure 11.12': 'https://www.cis.upenn.edu/~ccb/data/smart-textbook/AIMA_figures/figure_11.12.jpg',\n",
        "\t'Figure 11.13': 'https://www.cis.upenn.edu/~ccb/data/smart-textbook/AIMA_figures/figure_11.13.jpg',\n",
        "\t'Figure 11.14': 'https://www.cis.upenn.edu/~ccb/data/smart-textbook/AIMA_figures/figure_11.14.jpg',\n",
        "\t'Figure 11.15': 'https://www.cis.upenn.edu/~ccb/data/smart-textbook/AIMA_figures/figure_11.15.jpg',\n",
        "\t'Figure 11.3': 'https://www.cis.upenn.edu/~ccb/data/smart-textbook/AIMA_figures/figure_11.3.jpg',\n",
        "\t'Figure 11.5': 'https://www.cis.upenn.edu/~ccb/data/smart-textbook/AIMA_figures/figure_11.5.jpg',\n",
        "\t'Figure 11.6': 'https://www.cis.upenn.edu/~ccb/data/smart-textbook/AIMA_figures/figure_11.6.jpg',\n",
        "\t'Figure 11.9': 'https://www.cis.upenn.edu/~ccb/data/smart-textbook/AIMA_figures/figure_11.9.jpg',\n",
        "\t'Figure 12.4': 'https://www.cis.upenn.edu/~ccb/data/smart-textbook/AIMA_figures/figure_12.4.jpg',\n",
        "\t'Figure 12.5': 'https://www.cis.upenn.edu/~ccb/data/smart-textbook/AIMA_figures/figure_12.5.jpg',\n",
        "\t'Figure 12.6': 'https://www.cis.upenn.edu/~ccb/data/smart-textbook/AIMA_figures/figure_12.6.jpg',\n",
        "\t'Figure 13.1': 'https://www.cis.upenn.edu/~ccb/data/smart-textbook/AIMA_figures/figure_13.1.jpg',\n",
        "\t'Figure 13.10': 'https://www.cis.upenn.edu/~ccb/data/smart-textbook/AIMA_figures/figure_13.10.jpg',\n",
        "\t'Figure 13.14': 'https://www.cis.upenn.edu/~ccb/data/smart-textbook/AIMA_figures/figure_13.14.jpg',\n",
        "\t'Figure 13.15': 'https://www.cis.upenn.edu/~ccb/data/smart-textbook/AIMA_figures/figure_13.15.jpg',\n",
        "\t'Figure 13.19': 'https://www.cis.upenn.edu/~ccb/data/smart-textbook/AIMA_figures/figure_13.19.jpg',\n",
        "\t'Figure 13.2': 'https://www.cis.upenn.edu/~ccb/data/smart-textbook/AIMA_figures/figure_13.2.jpg',\n",
        "\t'Figure 13.21': 'https://www.cis.upenn.edu/~ccb/data/smart-textbook/AIMA_figures/figure_13.21.jpg',\n",
        "\t'Figure 13.22': 'https://www.cis.upenn.edu/~ccb/data/smart-textbook/AIMA_figures/figure_13.22.jpg',\n",
        "\t'Figure 13.23': 'https://www.cis.upenn.edu/~ccb/data/smart-textbook/AIMA_figures/figure_13.23.jpg',\n",
        "\t'Figure 13.3': 'https://www.cis.upenn.edu/~ccb/data/smart-textbook/AIMA_figures/figure_13.3.jpg',\n",
        "\t'Figure 13.4': 'https://www.cis.upenn.edu/~ccb/data/smart-textbook/AIMA_figures/figure_13.4.jpg',\n",
        "\t'Figure 13.7': 'https://www.cis.upenn.edu/~ccb/data/smart-textbook/AIMA_figures/figure_13.7.jpg',\n",
        "\t'Figure 13.8': 'https://www.cis.upenn.edu/~ccb/data/smart-textbook/AIMA_figures/figure_13.8.jpg',\n",
        "\t'Figure 13.9': 'https://www.cis.upenn.edu/~ccb/data/smart-textbook/AIMA_figures/figure_13.9.jpg',\n",
        "\t'Figure 14.1': 'https://www.cis.upenn.edu/~ccb/data/smart-textbook/AIMA_figures/figure_14.1.jpg',\n",
        "\t'Figure 14.10': 'https://www.cis.upenn.edu/~ccb/data/smart-textbook/AIMA_figures/figure_14.10.jpg',\n",
        "\t'Figure 14.11': 'https://www.cis.upenn.edu/~ccb/data/smart-textbook/AIMA_figures/figure_14.11.jpg',\n",
        "\t'Figure 14.12': 'https://www.cis.upenn.edu/~ccb/data/smart-textbook/AIMA_figures/figure_14.12.jpg',\n",
        "\t'Figure 14.13': 'https://www.cis.upenn.edu/~ccb/data/smart-textbook/AIMA_figures/figure_14.13.jpg',\n",
        "\t'Figure 14.14': 'https://www.cis.upenn.edu/~ccb/data/smart-textbook/AIMA_figures/figure_14.14.jpg',\n",
        "\t'Figure 14.15': 'https://www.cis.upenn.edu/~ccb/data/smart-textbook/AIMA_figures/figure_14.15.jpg',\n",
        "\t'Figure 14.16': 'https://www.cis.upenn.edu/~ccb/data/smart-textbook/AIMA_figures/figure_14.16.jpg',\n",
        "\t'Figure 14.18': 'https://www.cis.upenn.edu/~ccb/data/smart-textbook/AIMA_figures/figure_14.18.jpg',\n",
        "\t'Figure 14.2': 'https://www.cis.upenn.edu/~ccb/data/smart-textbook/AIMA_figures/figure_14.2.jpg',\n",
        "\t'Figure 14.20': 'https://www.cis.upenn.edu/~ccb/data/smart-textbook/AIMA_figures/figure_14.20.jpg',\n",
        "\t'Figure 14.21': 'https://www.cis.upenn.edu/~ccb/data/smart-textbook/AIMA_figures/figure_14.21.jpg',\n",
        "\t'Figure 14.3': 'https://www.cis.upenn.edu/~ccb/data/smart-textbook/AIMA_figures/figure_14.3.jpg',\n",
        "\t'Figure 14.5': 'https://www.cis.upenn.edu/~ccb/data/smart-textbook/AIMA_figures/figure_14.5.jpg',\n",
        "\t'Figure 14.7': 'https://www.cis.upenn.edu/~ccb/data/smart-textbook/AIMA_figures/figure_14.7.jpg',\n",
        "\t'Figure 14.8': 'https://www.cis.upenn.edu/~ccb/data/smart-textbook/AIMA_figures/figure_14.8.jpg',\n",
        "\t'Figure 14.9': 'https://www.cis.upenn.edu/~ccb/data/smart-textbook/AIMA_figures/figure_14.9.jpg',\n",
        "\t'Figure 15.1': 'https://www.cis.upenn.edu/~ccb/data/smart-textbook/AIMA_figures/figure_15.1.jpg',\n",
        "\t'Figure 15.10': 'https://www.cis.upenn.edu/~ccb/data/smart-textbook/AIMA_figures/figure_15.10.jpg',\n",
        "\t'Figure 15.12': 'https://www.cis.upenn.edu/~ccb/data/smart-textbook/AIMA_figures/figure_15.12.jpg',\n",
        "\t'Figure 15.13': 'https://www.cis.upenn.edu/~ccb/data/smart-textbook/AIMA_figures/figure_15.13.jpg',\n",
        "\t'Figure 15.14': 'https://www.cis.upenn.edu/~ccb/data/smart-textbook/AIMA_figures/figure_15.14.jpg',\n",
        "\t'Figure 15.2': 'https://www.cis.upenn.edu/~ccb/data/smart-textbook/AIMA_figures/figure_15.2.jpg',\n",
        "\t'Figure 15.3': 'https://www.cis.upenn.edu/~ccb/data/smart-textbook/AIMA_figures/figure_15.3.jpg',\n",
        "\t'Figure 15.7': 'https://www.cis.upenn.edu/~ccb/data/smart-textbook/AIMA_figures/figure_15.7.jpg',\n",
        "\t'Figure 15.8': 'https://www.cis.upenn.edu/~ccb/data/smart-textbook/AIMA_figures/figure_15.8.jpg',\n",
        "\t'Figure 16.1': 'https://www.cis.upenn.edu/~ccb/data/smart-textbook/AIMA_figures/figure_16.1.jpg',\n",
        "\t'Figure 16.10': 'https://www.cis.upenn.edu/~ccb/data/smart-textbook/AIMA_figures/figure_16.10.jpg',\n",
        "\t'Figure 16.11': 'https://www.cis.upenn.edu/~ccb/data/smart-textbook/AIMA_figures/figure_16.11.jpg',\n",
        "\t'Figure 16.2': 'https://www.cis.upenn.edu/~ccb/data/smart-textbook/AIMA_figures/figure_16.2.jpg',\n",
        "\t'Figure 16.3': 'https://www.cis.upenn.edu/~ccb/data/smart-textbook/AIMA_figures/figure_16.3.jpg',\n",
        "\t'Figure 16.4': 'https://www.cis.upenn.edu/~ccb/data/smart-textbook/AIMA_figures/figure_16.4.jpg',\n",
        "\t'Figure 16.5': 'https://www.cis.upenn.edu/~ccb/data/smart-textbook/AIMA_figures/figure_16.5.jpg',\n",
        "\t'Figure 16.6': 'https://www.cis.upenn.edu/~ccb/data/smart-textbook/AIMA_figures/figure_16.6.jpg',\n",
        "\t'Figure 16.7': 'https://www.cis.upenn.edu/~ccb/data/smart-textbook/AIMA_figures/figure_16.7.jpg',\n",
        "\t'Figure 16.8': 'https://www.cis.upenn.edu/~ccb/data/smart-textbook/AIMA_figures/figure_16.8.jpg',\n",
        "\t'Figure 17.1': 'https://www.cis.upenn.edu/~ccb/data/smart-textbook/AIMA_figures/figure_17.1.jpg',\n",
        "\t'Figure 17.10': 'https://www.cis.upenn.edu/~ccb/data/smart-textbook/AIMA_figures/figure_17.10.jpg',\n",
        "\t'Figure 17.11': 'https://www.cis.upenn.edu/~ccb/data/smart-textbook/AIMA_figures/figure_17.11.jpg',\n",
        "\t'Figure 17.12': 'https://www.cis.upenn.edu/~ccb/data/smart-textbook/AIMA_figures/figure_17.12.jpg',\n",
        "\t'Figure 17.13': 'https://www.cis.upenn.edu/~ccb/data/smart-textbook/AIMA_figures/figure_17.13.jpg',\n",
        "\t'Figure 17.14': 'https://www.cis.upenn.edu/~ccb/data/smart-textbook/AIMA_figures/figure_17.14.jpg',\n",
        "\t'Figure 17.15': 'https://www.cis.upenn.edu/~ccb/data/smart-textbook/AIMA_figures/figure_17.15.jpg',\n",
        "\t'Figure 17.17': 'https://www.cis.upenn.edu/~ccb/data/smart-textbook/AIMA_figures/figure_17.17.jpg',\n",
        "\t'Figure 17.2': 'https://www.cis.upenn.edu/~ccb/data/smart-textbook/AIMA_figures/figure_17.2.jpg',\n",
        "\t'Figure 17.3': 'https://www.cis.upenn.edu/~ccb/data/smart-textbook/AIMA_figures/figure_17.3.jpg',\n",
        "\t'Figure 17.4': 'https://www.cis.upenn.edu/~ccb/data/smart-textbook/AIMA_figures/figure_17.4.jpg',\n",
        "\t'Figure 17.5': 'https://www.cis.upenn.edu/~ccb/data/smart-textbook/AIMA_figures/figure_17.5.jpg',\n",
        "\t'Figure 17.7': 'https://www.cis.upenn.edu/~ccb/data/smart-textbook/AIMA_figures/figure_17.7.jpg',\n",
        "\t'Figure 17.8': 'https://www.cis.upenn.edu/~ccb/data/smart-textbook/AIMA_figures/figure_17.8.jpg',\n",
        "\t'Figure 18.2': 'https://www.cis.upenn.edu/~ccb/data/smart-textbook/AIMA_figures/figure_18.2.jpg',\n",
        "\t'Figure 18.3': 'https://www.cis.upenn.edu/~ccb/data/smart-textbook/AIMA_figures/figure_18.3.jpg',\n",
        "\t'Figure 18.4': 'https://www.cis.upenn.edu/~ccb/data/smart-textbook/AIMA_figures/figure_18.4.jpg',\n",
        "\t'Figure 18.5': 'https://www.cis.upenn.edu/~ccb/data/smart-textbook/AIMA_figures/figure_18.5.jpg',\n",
        "\t'Figure 18.6': 'https://www.cis.upenn.edu/~ccb/data/smart-textbook/AIMA_figures/figure_18.6.jpg',\n",
        "\t'Figure 18.7': 'https://www.cis.upenn.edu/~ccb/data/smart-textbook/AIMA_figures/figure_18.7.jpg',\n",
        "\t'Figure 18.8': 'https://www.cis.upenn.edu/~ccb/data/smart-textbook/AIMA_figures/figure_18.8.jpg',\n",
        "\t'Figure 19.1': 'https://www.cis.upenn.edu/~ccb/data/smart-textbook/AIMA_figures/figure_19.1.jpg',\n",
        "\t'Figure 19.12': 'https://www.cis.upenn.edu/~ccb/data/smart-textbook/AIMA_figures/figure_19.12.jpg',\n",
        "\t'Figure 19.13': 'https://www.cis.upenn.edu/~ccb/data/smart-textbook/AIMA_figures/figure_19.13.jpg',\n",
        "\t'Figure 19.14': 'https://www.cis.upenn.edu/~ccb/data/smart-textbook/AIMA_figures/figure_19.14.jpg',\n",
        "\t'Figure 19.15': 'https://www.cis.upenn.edu/~ccb/data/smart-textbook/AIMA_figures/figure_19.15.jpg',\n",
        "\t'Figure 19.16': 'https://www.cis.upenn.edu/~ccb/data/smart-textbook/AIMA_figures/figure_19.16.jpg',\n",
        "\t'Figure 19.17': 'https://www.cis.upenn.edu/~ccb/data/smart-textbook/AIMA_figures/figure_19.17.jpg',\n",
        "\t'Figure 19.18': 'https://www.cis.upenn.edu/~ccb/data/smart-textbook/AIMA_figures/figure_19.18.jpg',\n",
        "\t'Figure 19.19': 'https://www.cis.upenn.edu/~ccb/data/smart-textbook/AIMA_figures/figure_19.19.jpg',\n",
        "\t'Figure 19.2': 'https://www.cis.upenn.edu/~ccb/data/smart-textbook/AIMA_figures/figure_19.2.jpg',\n",
        "\t'Figure 19.20': 'https://www.cis.upenn.edu/~ccb/data/smart-textbook/AIMA_figures/figure_19.20.jpg',\n",
        "\t'Figure 19.21': 'https://www.cis.upenn.edu/~ccb/data/smart-textbook/AIMA_figures/figure_19.21.jpg',\n",
        "\t'Figure 19.22': 'https://www.cis.upenn.edu/~ccb/data/smart-textbook/AIMA_figures/figure_19.22.jpg',\n",
        "\t'Figure 19.23': 'https://www.cis.upenn.edu/~ccb/data/smart-textbook/AIMA_figures/figure_19.23.jpg',\n",
        "\t'Figure 19.24': 'https://www.cis.upenn.edu/~ccb/data/smart-textbook/AIMA_figures/figure_19.24.jpg',\n",
        "\t'Figure 19.26': 'https://www.cis.upenn.edu/~ccb/data/smart-textbook/AIMA_figures/figure_19.26.jpg',\n",
        "\t'Figure 19.27': 'https://www.cis.upenn.edu/~ccb/data/smart-textbook/AIMA_figures/figure_19.27.jpg',\n",
        "\t'Figure 19.3': 'https://www.cis.upenn.edu/~ccb/data/smart-textbook/AIMA_figures/figure_19.3.jpg',\n",
        "\t'Figure 19.4': 'https://www.cis.upenn.edu/~ccb/data/smart-textbook/AIMA_figures/figure_19.4.jpg',\n",
        "\t'Figure 19.6': 'https://www.cis.upenn.edu/~ccb/data/smart-textbook/AIMA_figures/figure_19.6.jpg',\n",
        "\t'Figure 19.7': 'https://www.cis.upenn.edu/~ccb/data/smart-textbook/AIMA_figures/figure_19.7.jpg',\n",
        "\t'Figure 19.9': 'https://www.cis.upenn.edu/~ccb/data/smart-textbook/AIMA_figures/figure_19.9.jpg',\n",
        "\t'Figure 2.1': 'https://www.cis.upenn.edu/~ccb/data/smart-textbook/AIMA_figures/figure_2.1.jpg',\n",
        "\t'Figure 2.11': 'https://www.cis.upenn.edu/~ccb/data/smart-textbook/AIMA_figures/figure_2.11.jpg',\n",
        "\t'Figure 2.13': 'https://www.cis.upenn.edu/~ccb/data/smart-textbook/AIMA_figures/figure_2.13.jpg',\n",
        "\t'Figure 2.14': 'https://www.cis.upenn.edu/~ccb/data/smart-textbook/AIMA_figures/figure_2.14.jpg',\n",
        "\t'Figure 2.15': 'https://www.cis.upenn.edu/~ccb/data/smart-textbook/AIMA_figures/figure_2.15.jpg',\n",
        "\t'Figure 2.16': 'https://www.cis.upenn.edu/~ccb/data/smart-textbook/AIMA_figures/figure_2.16.jpg',\n",
        "\t'Figure 2.2': 'https://www.cis.upenn.edu/~ccb/data/smart-textbook/AIMA_figures/figure_2.2.jpg',\n",
        "\t'Figure 2.3': 'https://www.cis.upenn.edu/~ccb/data/smart-textbook/AIMA_figures/figure_2.3.jpg',\n",
        "\t'Figure 2.4': 'https://www.cis.upenn.edu/~ccb/data/smart-textbook/AIMA_figures/figure_2.4.jpg',\n",
        "\t'Figure 2.5': 'https://www.cis.upenn.edu/~ccb/data/smart-textbook/AIMA_figures/figure_2.5.jpg',\n",
        "\t'Figure 2.6': 'https://www.cis.upenn.edu/~ccb/data/smart-textbook/AIMA_figures/figure_2.6.jpg',\n",
        "\t'Figure 2.9': 'https://www.cis.upenn.edu/~ccb/data/smart-textbook/AIMA_figures/figure_2.9.jpg',\n",
        "\t'Figure 20.1': 'https://www.cis.upenn.edu/~ccb/data/smart-textbook/AIMA_figures/figure_20.1.jpg',\n",
        "\t'Figure 20.10': 'https://www.cis.upenn.edu/~ccb/data/smart-textbook/AIMA_figures/figure_20.10.jpg',\n",
        "\t'Figure 20.11': 'https://www.cis.upenn.edu/~ccb/data/smart-textbook/AIMA_figures/figure_20.11.jpg',\n",
        "\t'Figure 20.12': 'https://www.cis.upenn.edu/~ccb/data/smart-textbook/AIMA_figures/figure_20.12.jpg',\n",
        "\t'Figure 20.13': 'https://www.cis.upenn.edu/~ccb/data/smart-textbook/AIMA_figures/figure_20.13.jpg',\n",
        "\t'Figure 20.14': 'https://www.cis.upenn.edu/~ccb/data/smart-textbook/AIMA_figures/figure_20.14.jpg',\n",
        "\t'Figure 20.15': 'https://www.cis.upenn.edu/~ccb/data/smart-textbook/AIMA_figures/figure_20.15.jpg',\n",
        "\t'Figure 20.2': 'https://www.cis.upenn.edu/~ccb/data/smart-textbook/AIMA_figures/figure_20.2.jpg',\n",
        "\t'Figure 20.3': 'https://www.cis.upenn.edu/~ccb/data/smart-textbook/AIMA_figures/figure_20.3.jpg',\n",
        "\t'Figure 20.4': 'https://www.cis.upenn.edu/~ccb/data/smart-textbook/AIMA_figures/figure_20.4.jpg',\n",
        "\t'Figure 20.5': 'https://www.cis.upenn.edu/~ccb/data/smart-textbook/AIMA_figures/figure_20.5.jpg',\n",
        "\t'Figure 20.6': 'https://www.cis.upenn.edu/~ccb/data/smart-textbook/AIMA_figures/figure_20.6.jpg',\n",
        "\t'Figure 20.7': 'https://www.cis.upenn.edu/~ccb/data/smart-textbook/AIMA_figures/figure_20.7.jpg',\n",
        "\t'Figure 20.8': 'https://www.cis.upenn.edu/~ccb/data/smart-textbook/AIMA_figures/figure_20.8.jpg',\n",
        "\t'Figure 20.9': 'https://www.cis.upenn.edu/~ccb/data/smart-textbook/AIMA_figures/figure_20.9.jpg',\n",
        "\t'Figure 21.1': 'https://www.cis.upenn.edu/~ccb/data/smart-textbook/AIMA_figures/figure_21.1.jpg',\n",
        "\t'Figure 21.2': 'https://www.cis.upenn.edu/~ccb/data/smart-textbook/AIMA_figures/figure_21.2.jpg',\n",
        "\t'Figure 21.3': 'https://www.cis.upenn.edu/~ccb/data/smart-textbook/AIMA_figures/figure_21.3.jpg',\n",
        "\t'Figure 21.4': 'https://www.cis.upenn.edu/~ccb/data/smart-textbook/AIMA_figures/figure_21.4.jpg',\n",
        "\t'Figure 21.5': 'https://www.cis.upenn.edu/~ccb/data/smart-textbook/AIMA_figures/figure_21.5.jpg',\n",
        "\t'Figure 21.6': 'https://www.cis.upenn.edu/~ccb/data/smart-textbook/AIMA_figures/figure_21.6.jpg',\n",
        "\t'Figure 21.7': 'https://www.cis.upenn.edu/~ccb/data/smart-textbook/AIMA_figures/figure_21.7.jpg',\n",
        "\t'Figure 21.8': 'https://www.cis.upenn.edu/~ccb/data/smart-textbook/AIMA_figures/figure_21.8.jpg',\n",
        "\t'Figure 21.9': 'https://www.cis.upenn.edu/~ccb/data/smart-textbook/AIMA_figures/figure_21.9.jpg',\n",
        "\t'Figure 22.1': 'https://www.cis.upenn.edu/~ccb/data/smart-textbook/AIMA_figures/figure_22.1.jpg',\n",
        "\t'Figure 22.3': 'https://www.cis.upenn.edu/~ccb/data/smart-textbook/AIMA_figures/figure_22.3.jpg',\n",
        "\t'Figure 22.5': 'https://www.cis.upenn.edu/~ccb/data/smart-textbook/AIMA_figures/figure_22.5.jpg',\n",
        "\t'Figure 22.6': 'https://www.cis.upenn.edu/~ccb/data/smart-textbook/AIMA_figures/figure_22.6.jpg',\n",
        "\t'Figure 22.7': 'https://www.cis.upenn.edu/~ccb/data/smart-textbook/AIMA_figures/figure_22.7.jpg',\n",
        "\t'Figure 22.9': 'https://www.cis.upenn.edu/~ccb/data/smart-textbook/AIMA_figures/figure_22.9.jpg',\n",
        "\t'Figure 23.1': 'https://www.cis.upenn.edu/~ccb/data/smart-textbook/AIMA_figures/figure_23.1.jpg',\n",
        "\t'Figure 23.11': 'https://www.cis.upenn.edu/~ccb/data/smart-textbook/AIMA_figures/figure_23.11.jpg',\n",
        "\t'Figure 23.12': 'https://www.cis.upenn.edu/~ccb/data/smart-textbook/AIMA_figures/figure_23.12.jpg',\n",
        "\t'Figure 23.2': 'https://www.cis.upenn.edu/~ccb/data/smart-textbook/AIMA_figures/figure_23.2.jpg',\n",
        "\t'Figure 23.4': 'https://www.cis.upenn.edu/~ccb/data/smart-textbook/AIMA_figures/figure_23.4.jpg',\n",
        "\t'Figure 23.6': 'https://www.cis.upenn.edu/~ccb/data/smart-textbook/AIMA_figures/figure_23.6.jpg',\n",
        "\t'Figure 23.7': 'https://www.cis.upenn.edu/~ccb/data/smart-textbook/AIMA_figures/figure_23.7.jpg',\n",
        "\t'Figure 24.1': 'https://www.cis.upenn.edu/~ccb/data/smart-textbook/AIMA_figures/figure_24.1.jpg',\n",
        "\t'Figure 24.10': 'https://www.cis.upenn.edu/~ccb/data/smart-textbook/AIMA_figures/figure_24.10.jpg',\n",
        "\t'Figure 24.11': 'https://www.cis.upenn.edu/~ccb/data/smart-textbook/AIMA_figures/figure_24.11.jpg',\n",
        "\t'Figure 24.12': 'https://www.cis.upenn.edu/~ccb/data/smart-textbook/AIMA_figures/figure_24.12.jpg',\n",
        "\t'Figure 24.2': 'https://www.cis.upenn.edu/~ccb/data/smart-textbook/AIMA_figures/figure_24.2.jpg',\n",
        "\t'Figure 24.3': 'https://www.cis.upenn.edu/~ccb/data/smart-textbook/AIMA_figures/figure_24.3.jpg',\n",
        "\t'Figure 24.4': 'https://www.cis.upenn.edu/~ccb/data/smart-textbook/AIMA_figures/figure_24.4.jpg',\n",
        "\t'Figure 24.5': 'https://www.cis.upenn.edu/~ccb/data/smart-textbook/AIMA_figures/figure_24.5.jpg',\n",
        "\t'Figure 24.6': 'https://www.cis.upenn.edu/~ccb/data/smart-textbook/AIMA_figures/figure_24.6.jpg',\n",
        "\t'Figure 24.7': 'https://www.cis.upenn.edu/~ccb/data/smart-textbook/AIMA_figures/figure_24.7.jpg',\n",
        "\t'Figure 24.8': 'https://www.cis.upenn.edu/~ccb/data/smart-textbook/AIMA_figures/figure_24.8.jpg',\n",
        "\t'Figure 24.9': 'https://www.cis.upenn.edu/~ccb/data/smart-textbook/AIMA_figures/figure_24.9.jpg',\n",
        "\t'Figure 25.1': 'https://www.cis.upenn.edu/~ccb/data/smart-textbook/AIMA_figures/figure_25.1.jpg',\n",
        "\t'Figure 25.10': 'https://www.cis.upenn.edu/~ccb/data/smart-textbook/AIMA_figures/figure_25.10.jpg',\n",
        "\t'Figure 25.11': 'https://www.cis.upenn.edu/~ccb/data/smart-textbook/AIMA_figures/figure_25.11.jpg',\n",
        "\t'Figure 25.12': 'https://www.cis.upenn.edu/~ccb/data/smart-textbook/AIMA_figures/figure_25.12.jpg',\n",
        "\t'Figure 25.13': 'https://www.cis.upenn.edu/~ccb/data/smart-textbook/AIMA_figures/figure_25.13.jpg',\n",
        "\t'Figure 25.14': 'https://www.cis.upenn.edu/~ccb/data/smart-textbook/AIMA_figures/figure_25.14.jpg',\n",
        "\t'Figure 25.15': 'https://www.cis.upenn.edu/~ccb/data/smart-textbook/AIMA_figures/figure_25.15.jpg',\n",
        "\t'Figure 25.16': 'https://www.cis.upenn.edu/~ccb/data/smart-textbook/AIMA_figures/figure_25.16.jpg',\n",
        "\t'Figure 25.17': 'https://www.cis.upenn.edu/~ccb/data/smart-textbook/AIMA_figures/figure_25.17.jpg',\n",
        "\t'Figure 25.18': 'https://www.cis.upenn.edu/~ccb/data/smart-textbook/AIMA_figures/figure_25.18.jpg',\n",
        "\t'Figure 25.19': 'https://www.cis.upenn.edu/~ccb/data/smart-textbook/AIMA_figures/figure_25.19.jpg',\n",
        "\t'Figure 25.2': 'https://www.cis.upenn.edu/~ccb/data/smart-textbook/AIMA_figures/figure_25.2.jpg',\n",
        "\t'Figure 25.20': 'https://www.cis.upenn.edu/~ccb/data/smart-textbook/AIMA_figures/figure_25.20.jpg',\n",
        "\t'Figure 25.21': 'https://www.cis.upenn.edu/~ccb/data/smart-textbook/AIMA_figures/figure_25.21.jpg',\n",
        "\t'Figure 25.22': 'https://www.cis.upenn.edu/~ccb/data/smart-textbook/AIMA_figures/figure_25.22.jpg',\n",
        "\t'Figure 25.23': 'https://www.cis.upenn.edu/~ccb/data/smart-textbook/AIMA_figures/figure_25.23.jpg',\n",
        "\t'Figure 25.24': 'https://www.cis.upenn.edu/~ccb/data/smart-textbook/AIMA_figures/figure_25.24.jpg',\n",
        "\t'Figure 25.25': 'https://www.cis.upenn.edu/~ccb/data/smart-textbook/AIMA_figures/figure_25.25.jpg',\n",
        "\t'Figure 25.26': 'https://www.cis.upenn.edu/~ccb/data/smart-textbook/AIMA_figures/figure_25.26.jpg',\n",
        "\t'Figure 25.27': 'https://www.cis.upenn.edu/~ccb/data/smart-textbook/AIMA_figures/figure_25.27.jpg',\n",
        "\t'Figure 25.28': 'https://www.cis.upenn.edu/~ccb/data/smart-textbook/AIMA_figures/figure_25.28.jpg',\n",
        "\t'Figure 25.29': 'https://www.cis.upenn.edu/~ccb/data/smart-textbook/AIMA_figures/figure_25.29.jpg',\n",
        "\t'Figure 25.3': 'https://www.cis.upenn.edu/~ccb/data/smart-textbook/AIMA_figures/figure_25.3.jpg',\n",
        "\t'Figure 25.4': 'https://www.cis.upenn.edu/~ccb/data/smart-textbook/AIMA_figures/figure_25.4.jpg',\n",
        "\t'Figure 25.5': 'https://www.cis.upenn.edu/~ccb/data/smart-textbook/AIMA_figures/figure_25.5.jpg',\n",
        "\t'Figure 25.6': 'https://www.cis.upenn.edu/~ccb/data/smart-textbook/AIMA_figures/figure_25.6.jpg',\n",
        "\t'Figure 25.7': 'https://www.cis.upenn.edu/~ccb/data/smart-textbook/AIMA_figures/figure_25.7.jpg',\n",
        "\t'Figure 25.8': 'https://www.cis.upenn.edu/~ccb/data/smart-textbook/AIMA_figures/figure_25.8.jpg',\n",
        "\t'Figure 25.9': 'https://www.cis.upenn.edu/~ccb/data/smart-textbook/AIMA_figures/figure_25.9.jpg',\n",
        "\t'Figure 26.1': 'https://www.cis.upenn.edu/~ccb/data/smart-textbook/AIMA_figures/figure_26.1.jpg',\n",
        "\t'Figure 26.10': 'https://www.cis.upenn.edu/~ccb/data/smart-textbook/AIMA_figures/figure_26.10.jpg',\n",
        "\t'Figure 26.11': 'https://www.cis.upenn.edu/~ccb/data/smart-textbook/AIMA_figures/figure_26.11.jpg',\n",
        "\t'Figure 26.12': 'https://www.cis.upenn.edu/~ccb/data/smart-textbook/AIMA_figures/figure_26.12.jpg',\n",
        "\t'Figure 26.13': 'https://www.cis.upenn.edu/~ccb/data/smart-textbook/AIMA_figures/figure_26.13.jpg',\n",
        "\t'Figure 26.15': 'https://www.cis.upenn.edu/~ccb/data/smart-textbook/AIMA_figures/figure_26.15.jpg',\n",
        "\t'Figure 26.16': 'https://www.cis.upenn.edu/~ccb/data/smart-textbook/AIMA_figures/figure_26.16.jpg',\n",
        "\t'Figure 26.17': 'https://www.cis.upenn.edu/~ccb/data/smart-textbook/AIMA_figures/figure_26.17.jpg',\n",
        "\t'Figure 26.18': 'https://www.cis.upenn.edu/~ccb/data/smart-textbook/AIMA_figures/figure_26.18.jpg',\n",
        "\t'Figure 26.19': 'https://www.cis.upenn.edu/~ccb/data/smart-textbook/AIMA_figures/figure_26.19.jpg',\n",
        "\t'Figure 26.20': 'https://www.cis.upenn.edu/~ccb/data/smart-textbook/AIMA_figures/figure_26.20.jpg',\n",
        "\t'Figure 26.21': 'https://www.cis.upenn.edu/~ccb/data/smart-textbook/AIMA_figures/figure_26.21.jpg',\n",
        "\t'Figure 26.22': 'https://www.cis.upenn.edu/~ccb/data/smart-textbook/AIMA_figures/figure_26.22.jpg',\n",
        "\t'Figure 26.23': 'https://www.cis.upenn.edu/~ccb/data/smart-textbook/AIMA_figures/figure_26.23.jpg',\n",
        "\t'Figure 26.24': 'https://www.cis.upenn.edu/~ccb/data/smart-textbook/AIMA_figures/figure_26.24.jpg',\n",
        "\t'Figure 26.25': 'https://www.cis.upenn.edu/~ccb/data/smart-textbook/AIMA_figures/figure_26.25.jpg',\n",
        "\t'Figure 26.26': 'https://www.cis.upenn.edu/~ccb/data/smart-textbook/AIMA_figures/figure_26.26.jpg',\n",
        "\t'Figure 26.27': 'https://www.cis.upenn.edu/~ccb/data/smart-textbook/AIMA_figures/figure_26.27.jpg',\n",
        "\t'Figure 26.28': 'https://www.cis.upenn.edu/~ccb/data/smart-textbook/AIMA_figures/figure_26.28.jpg',\n",
        "\t'Figure 26.29': 'https://www.cis.upenn.edu/~ccb/data/smart-textbook/AIMA_figures/figure_26.29.jpg',\n",
        "\t'Figure 26.3': 'https://www.cis.upenn.edu/~ccb/data/smart-textbook/AIMA_figures/figure_26.3.jpg',\n",
        "\t'Figure 26.30': 'https://www.cis.upenn.edu/~ccb/data/smart-textbook/AIMA_figures/figure_26.30.jpg',\n",
        "\t'Figure 26.31': 'https://www.cis.upenn.edu/~ccb/data/smart-textbook/AIMA_figures/figure_26.31.jpg',\n",
        "\t'Figure 26.32': 'https://www.cis.upenn.edu/~ccb/data/smart-textbook/AIMA_figures/figure_26.32.jpg',\n",
        "\t'Figure 26.33': 'https://www.cis.upenn.edu/~ccb/data/smart-textbook/AIMA_figures/figure_26.33.jpg',\n",
        "\t'Figure 26.34': 'https://www.cis.upenn.edu/~ccb/data/smart-textbook/AIMA_figures/figure_26.34.jpg',\n",
        "\t'Figure 26.35': 'https://www.cis.upenn.edu/~ccb/data/smart-textbook/AIMA_figures/figure_26.35.jpg',\n",
        "\t'Figure 26.36': 'https://www.cis.upenn.edu/~ccb/data/smart-textbook/AIMA_figures/figure_26.36.jpg',\n",
        "\t'Figure 26.4': 'https://www.cis.upenn.edu/~ccb/data/smart-textbook/AIMA_figures/figure_26.4.jpg',\n",
        "\t'Figure 26.5': 'https://www.cis.upenn.edu/~ccb/data/smart-textbook/AIMA_figures/figure_26.5.jpg',\n",
        "\t'Figure 26.7': 'https://www.cis.upenn.edu/~ccb/data/smart-textbook/AIMA_figures/figure_26.7.jpg',\n",
        "\t'Figure 26.8': 'https://www.cis.upenn.edu/~ccb/data/smart-textbook/AIMA_figures/figure_26.8.jpg',\n",
        "\t'Figure 26.9': 'https://www.cis.upenn.edu/~ccb/data/smart-textbook/AIMA_figures/figure_26.9.jpg',\n",
        "\t'Figure 3.1': 'https://www.cis.upenn.edu/~ccb/data/smart-textbook/AIMA_figures/figure_3.1.jpg',\n",
        "\t'Figure 3.10': 'https://www.cis.upenn.edu/~ccb/data/smart-textbook/AIMA_figures/figure_3.10.jpg',\n",
        "\t'Figure 3.11': 'https://www.cis.upenn.edu/~ccb/data/smart-textbook/AIMA_figures/figure_3.11.jpg',\n",
        "\t'Figure 3.13': 'https://www.cis.upenn.edu/~ccb/data/smart-textbook/AIMA_figures/figure_3.13.jpg',\n",
        "\t'Figure 3.16': 'https://www.cis.upenn.edu/~ccb/data/smart-textbook/AIMA_figures/figure_3.16.jpg',\n",
        "\t'Figure 3.17': 'https://www.cis.upenn.edu/~ccb/data/smart-textbook/AIMA_figures/figure_3.17.jpg',\n",
        "\t'Figure 3.18': 'https://www.cis.upenn.edu/~ccb/data/smart-textbook/AIMA_figures/figure_3.18.jpg',\n",
        "\t'Figure 3.19': 'https://www.cis.upenn.edu/~ccb/data/smart-textbook/AIMA_figures/figure_3.19.jpg',\n",
        "\t'Figure 3.2': 'https://www.cis.upenn.edu/~ccb/data/smart-textbook/AIMA_figures/figure_3.2.jpg',\n",
        "\t'Figure 3.20': 'https://www.cis.upenn.edu/~ccb/data/smart-textbook/AIMA_figures/figure_3.20.jpg',\n",
        "\t'Figure 3.21': 'https://www.cis.upenn.edu/~ccb/data/smart-textbook/AIMA_figures/figure_3.21.jpg',\n",
        "\t'Figure 3.23': 'https://www.cis.upenn.edu/~ccb/data/smart-textbook/AIMA_figures/figure_3.23.jpg',\n",
        "\t'Figure 3.24': 'https://www.cis.upenn.edu/~ccb/data/smart-textbook/AIMA_figures/figure_3.24.jpg',\n",
        "\t'Figure 3.25': 'https://www.cis.upenn.edu/~ccb/data/smart-textbook/AIMA_figures/figure_3.25.jpg',\n",
        "\t'Figure 3.26': 'https://www.cis.upenn.edu/~ccb/data/smart-textbook/AIMA_figures/figure_3.26.jpg',\n",
        "\t'Figure 3.27': 'https://www.cis.upenn.edu/~ccb/data/smart-textbook/AIMA_figures/figure_3.27.jpg',\n",
        "\t'Figure 3.28': 'https://www.cis.upenn.edu/~ccb/data/smart-textbook/AIMA_figures/figure_3.28.jpg',\n",
        "\t'Figure 3.4': 'https://www.cis.upenn.edu/~ccb/data/smart-textbook/AIMA_figures/figure_3.4.jpg',\n",
        "\t'Figure 3.5': 'https://www.cis.upenn.edu/~ccb/data/smart-textbook/AIMA_figures/figure_3.5.jpg',\n",
        "\t'Figure 3.6': 'https://www.cis.upenn.edu/~ccb/data/smart-textbook/AIMA_figures/figure_3.6.jpg',\n",
        "\t'Figure 3.8': 'https://www.cis.upenn.edu/~ccb/data/smart-textbook/AIMA_figures/figure_3.8.jpg',\n",
        "\t'Figure 4.1': 'https://www.cis.upenn.edu/~ccb/data/smart-textbook/AIMA_figures/figure_4.1.jpg',\n",
        "\t'Figure 4.11': 'https://www.cis.upenn.edu/~ccb/data/smart-textbook/AIMA_figures/figure_4.11.jpg',\n",
        "\t'Figure 4.12': 'https://www.cis.upenn.edu/~ccb/data/smart-textbook/AIMA_figures/figure_4.12.jpg',\n",
        "\t'Figure 4.13': 'https://www.cis.upenn.edu/~ccb/data/smart-textbook/AIMA_figures/figure_4.13.jpg',\n",
        "\t'Figure 4.14': 'https://www.cis.upenn.edu/~ccb/data/smart-textbook/AIMA_figures/figure_4.14.jpg',\n",
        "\t'Figure 4.15': 'https://www.cis.upenn.edu/~ccb/data/smart-textbook/AIMA_figures/figure_4.15.jpg',\n",
        "\t'Figure 4.16': 'https://www.cis.upenn.edu/~ccb/data/smart-textbook/AIMA_figures/figure_4.16.jpg',\n",
        "\t'Figure 4.17': 'https://www.cis.upenn.edu/~ccb/data/smart-textbook/AIMA_figures/figure_4.17.jpg',\n",
        "\t'Figure 4.18': 'https://www.cis.upenn.edu/~ccb/data/smart-textbook/AIMA_figures/figure_4.18.jpg',\n",
        "\t'Figure 4.19': 'https://www.cis.upenn.edu/~ccb/data/smart-textbook/AIMA_figures/figure_4.19.jpg',\n",
        "\t'Figure 4.22': 'https://www.cis.upenn.edu/~ccb/data/smart-textbook/AIMA_figures/figure_4.22.jpg',\n",
        "\t'Figure 4.3': 'https://www.cis.upenn.edu/~ccb/data/smart-textbook/AIMA_figures/figure_4.3.jpg',\n",
        "\t'Figure 4.5': 'https://www.cis.upenn.edu/~ccb/data/smart-textbook/AIMA_figures/figure_4.5.jpg',\n",
        "\t'Figure 4.6': 'https://www.cis.upenn.edu/~ccb/data/smart-textbook/AIMA_figures/figure_4.6.jpg',\n",
        "\t'Figure 4.8': 'https://www.cis.upenn.edu/~ccb/data/smart-textbook/AIMA_figures/figure_4.8.jpg',\n",
        "\t'Figure 4.9': 'https://www.cis.upenn.edu/~ccb/data/smart-textbook/AIMA_figures/figure_4.9.jpg',\n",
        "\t'Figure 5.1': 'https://www.cis.upenn.edu/~ccb/data/smart-textbook/AIMA_figures/figure_5.1.jpg',\n",
        "\t'Figure 5.10': 'https://www.cis.upenn.edu/~ccb/data/smart-textbook/AIMA_figures/figure_5.10.jpg',\n",
        "\t'Figure 5.12': 'https://www.cis.upenn.edu/~ccb/data/smart-textbook/AIMA_figures/figure_5.12.jpg',\n",
        "\t'Figure 5.13': 'https://www.cis.upenn.edu/~ccb/data/smart-textbook/AIMA_figures/figure_5.13.jpg',\n",
        "\t'Figure 5.14': 'https://www.cis.upenn.edu/~ccb/data/smart-textbook/AIMA_figures/figure_5.14.jpg',\n",
        "\t'Figure 5.15': 'https://www.cis.upenn.edu/~ccb/data/smart-textbook/AIMA_figures/figure_5.15.jpg',\n",
        "\t'Figure 5.16': 'https://www.cis.upenn.edu/~ccb/data/smart-textbook/AIMA_figures/figure_5.16.jpg',\n",
        "\t'Figure 5.2': 'https://www.cis.upenn.edu/~ccb/data/smart-textbook/AIMA_figures/figure_5.2.jpg',\n",
        "\t'Figure 5.4': 'https://www.cis.upenn.edu/~ccb/data/smart-textbook/AIMA_figures/figure_5.4.jpg',\n",
        "\t'Figure 5.5': 'https://www.cis.upenn.edu/~ccb/data/smart-textbook/AIMA_figures/figure_5.5.jpg',\n",
        "\t'Figure 5.6': 'https://www.cis.upenn.edu/~ccb/data/smart-textbook/AIMA_figures/figure_5.6.jpg',\n",
        "\t'Figure 5.8': 'https://www.cis.upenn.edu/~ccb/data/smart-textbook/AIMA_figures/figure_5.8.jpg',\n",
        "\t'Figure 5.9': 'https://www.cis.upenn.edu/~ccb/data/smart-textbook/AIMA_figures/figure_5.9.jpg',\n",
        "\t'Figure 6.1': 'https://www.cis.upenn.edu/~ccb/data/smart-textbook/AIMA_figures/figure_6.1.jpg',\n",
        "\t'Figure 6.12': 'https://www.cis.upenn.edu/~ccb/data/smart-textbook/AIMA_figures/figure_6.12.jpg',\n",
        "\t'Figure 6.13': 'https://www.cis.upenn.edu/~ccb/data/smart-textbook/AIMA_figures/figure_6.13.jpg',\n",
        "\t'Figure 6.2': 'https://www.cis.upenn.edu/~ccb/data/smart-textbook/AIMA_figures/figure_6.2.jpg',\n",
        "\t'Figure 6.4': 'https://www.cis.upenn.edu/~ccb/data/smart-textbook/AIMA_figures/figure_6.4.jpg',\n",
        "\t'Figure 6.5': 'https://www.cis.upenn.edu/~ccb/data/smart-textbook/AIMA_figures/figure_6.5.jpg',\n",
        "\t'Figure 6.6': 'https://www.cis.upenn.edu/~ccb/data/smart-textbook/AIMA_figures/figure_6.6.jpg',\n",
        "\t'Figure 6.7': 'https://www.cis.upenn.edu/~ccb/data/smart-textbook/AIMA_figures/figure_6.7.jpg',\n",
        "\t'Figure 6.8': 'https://www.cis.upenn.edu/~ccb/data/smart-textbook/AIMA_figures/figure_6.8.jpg',\n",
        "\t'Figure 7.12': 'https://www.cis.upenn.edu/~ccb/data/smart-textbook/AIMA_figures/figure_7.12.jpg',\n",
        "\t'Figure 7.14': 'https://www.cis.upenn.edu/~ccb/data/smart-textbook/AIMA_figures/figure_7.14.jpg',\n",
        "\t'Figure 7.16': 'https://www.cis.upenn.edu/~ccb/data/smart-textbook/AIMA_figures/figure_7.16.jpg',\n",
        "\t'Figure 7.19': 'https://www.cis.upenn.edu/~ccb/data/smart-textbook/AIMA_figures/figure_7.19.jpg',\n",
        "\t'Figure 7.2': 'https://www.cis.upenn.edu/~ccb/data/smart-textbook/AIMA_figures/figure_7.2.jpg',\n",
        "\t'Figure 7.21': 'https://www.cis.upenn.edu/~ccb/data/smart-textbook/AIMA_figures/figure_7.21.jpg',\n",
        "\t'Figure 7.3': 'https://www.cis.upenn.edu/~ccb/data/smart-textbook/AIMA_figures/figure_7.3.jpg',\n",
        "\t'Figure 7.4': 'https://www.cis.upenn.edu/~ccb/data/smart-textbook/AIMA_figures/figure_7.4.jpg',\n",
        "\t'Figure 7.5': 'https://www.cis.upenn.edu/~ccb/data/smart-textbook/AIMA_figures/figure_7.5.jpg',\n",
        "\t'Figure 7.6': 'https://www.cis.upenn.edu/~ccb/data/smart-textbook/AIMA_figures/figure_7.6.jpg',\n",
        "\t'Figure 7.7': 'https://www.cis.upenn.edu/~ccb/data/smart-textbook/AIMA_figures/figure_7.7.jpg',\n",
        "\t'Figure 7.8': 'https://www.cis.upenn.edu/~ccb/data/smart-textbook/AIMA_figures/figure_7.8.jpg',\n",
        "\t'Figure 8.1': 'https://www.cis.upenn.edu/~ccb/data/smart-textbook/AIMA_figures/figure_8.1.jpg',\n",
        "\t'Figure 8.2': 'https://www.cis.upenn.edu/~ccb/data/smart-textbook/AIMA_figures/figure_8.2.jpg',\n",
        "\t'Figure 8.3': 'https://www.cis.upenn.edu/~ccb/data/smart-textbook/AIMA_figures/figure_8.3.jpg',\n",
        "\t'Figure 8.4': 'https://www.cis.upenn.edu/~ccb/data/smart-textbook/AIMA_figures/figure_8.4.jpg',\n",
        "\t'Figure 8.5': 'https://www.cis.upenn.edu/~ccb/data/smart-textbook/AIMA_figures/figure_8.5.jpg',\n",
        "\t'Figure 8.6': 'https://www.cis.upenn.edu/~ccb/data/smart-textbook/AIMA_figures/figure_8.6.jpg',\n",
        "\t'Figure 9.10': 'https://www.cis.upenn.edu/~ccb/data/smart-textbook/AIMA_figures/figure_9.10.jpg',\n",
        "\t'Figure 9.11': 'https://www.cis.upenn.edu/~ccb/data/smart-textbook/AIMA_figures/figure_9.11.jpg',\n",
        "\t'Figure 9.12': 'https://www.cis.upenn.edu/~ccb/data/smart-textbook/AIMA_figures/figure_9.12.jpg',\n",
        "\t'Figure 9.2': 'https://www.cis.upenn.edu/~ccb/data/smart-textbook/AIMA_figures/figure_9.2.jpg',\n",
        "\t'Figure 9.4': 'https://www.cis.upenn.edu/~ccb/data/smart-textbook/AIMA_figures/figure_9.4.jpg',\n",
        "\t'Figure 9.5': 'https://www.cis.upenn.edu/~ccb/data/smart-textbook/AIMA_figures/figure_9.5.jpg',\n",
        "\t'Figure 9.7': 'https://www.cis.upenn.edu/~ccb/data/smart-textbook/AIMA_figures/figure_9.7.jpg',\n",
        "\t'Figure 9.9': 'https://www.cis.upenn.edu/~ccb/data/smart-textbook/AIMA_figures/figure_9.9.jpg',\n",
        "}\n",
        "\n",
        "def get_figure_markdown(figure, width_percent=75):\n",
        "  if figure in AIMA_figures:\n",
        "#    image_tag = '![{alt_text}]({url})'.format(alt_text=figure, url=AIMA_figures[figure])\n",
        "    image_tag = '<img src=\"{url}\" alt=\"{alt_text}\" width=\"{width}%\"/>'.format(\n",
        "        alt_text=figure,\n",
        "        url=AIMA_figures[figure],\n",
        "        width=width_percent)\n",
        "\n",
        "    return image_tag\n",
        "  else:\n",
        "    return \"## Error: {figure} not found in the list of AIMA figures\".format(figure=figure)"
      ],
      "metadata": {
        "cellView": "form",
        "id": "NUhDdzBjROAt"
      },
      "execution_count": null,
      "outputs": []
    },
    {
      "cell_type": "markdown",
      "metadata": {
        "id": "GZZXyrV-xuAp"
      },
      "source": [
        "\n",
        "# Module 1 - Intro to AI"
      ]
    },
    {
      "cell_type": "code",
      "metadata": {
        "id": "Y2NfE1CKxzS-"
      },
      "source": [
        "# Russell and Norvig, AIMA 4th Edition, Chapter 1 “Introduction”, Section 1.1 “What is AI”\n",
        "\n",
        "chapter1_1 = \"\"\" Chapter 1.1 summary.\n",
        "\n",
        "```\n",
        "def my_method(arg_1, arg_2):\n",
        "  for item in arg_1:\n",
        "    print(item)\n",
        "\n",
        "```\n",
        "\n",
        "$ \\sum_{n=0}^{N} n = b^2 $\n",
        "\n",
        "\"\"\"\n",
        "\n",
        "# Russell and Norvig, AIMA 4th Edition, Chapter 27 “Philosophical Foundations”, Sections 27.1 “The Limits of AI” and 27.2 “Can Machines Really Think?”\n",
        "chapter27_1 = \"\"\" Your summary here \"\"\"\n",
        "chapter27_2 = \"\"\" Your summary here \"\"\"\n",
        "\n",
        "# Russell and Norvig, AIMA 4th Edition, Chapter 2 “Intelligent Agents” (whole chapter)\n",
        "chapter2_1 = \"\"\" Your summary here \"\"\"\n",
        "chapter2_2 = \"\"\" Your summary here \"\"\"\n",
        "chapter2_3 = \"\"\" Your summary here \"\"\"\n",
        "chapter2_4 = \"\"\" Your summary here \"\"\"\n",
        "\n",
        "# Lecture notes\n",
        "module1_lecture_notes = \"\"\" Your summary here \"\"\"\n",
        "\n",
        "\n",
        "# Definitions of concepts from Module 1.\n",
        "# You can define any term in the textbook,\n",
        "# but you most use your own words for the definitions.\n",
        "# Each definition should be at most 20 words long.\n",
        "module1_definitions = {\n",
        "\"agent\" : \"anything that can perceive and act in an environment\",\n",
        "\"percept\" : \"your definitions here\",\n",
        "\"other concept\" : \"your definitions here\",\n",
        "\"etc.\": \"your definitions here\",\n",
        "}\n",
        "\n",
        "# You can include explanations for figures in the textbook (except figures with pseduocode).\n",
        "# The figure will appear in your notes along with your explanation.\n",
        "module1_figure_explanations = {\n",
        "\"Figure 1.3\" : \"Blocksworld was an early AI system that allowed users to say commands in natural language in order to have a robotic arm move blocks in a computer simulation.  To work successfully the AI must understand human language in a somewhat similar way to Turing's test of computer intelligence. \"\n",
        "}\n",
        "\n"
      ],
      "execution_count": null,
      "outputs": []
    },
    {
      "cell_type": "markdown",
      "metadata": {
        "id": "elCCgY64spuq"
      },
      "source": [
        "## Preview of your notes for Module 1\n",
        "\n",
        "Here's a preview of your how your notes will be displayed.  At the end of this Python notebook, we'll aggregate your notes for all modules together into a single display.\n"
      ]
    },
    {
      "cell_type": "code",
      "metadata": {
        "id": "gYYeNcdM_maE",
        "cellView": "form",
        "colab": {
          "base_uri": "https://localhost:8080/",
          "height": 1000
        },
        "outputId": "dcff3022-4e0c-47c4-f699-33a0d412d572"
      },
      "source": [
        "#@title Preview of your summary\n",
        "#@markdown You don't need to modify anything in this cell. Just press play.\n",
        "from IPython.display import display, Markdown, Latex\n",
        "\n",
        "module1_sections = [\n",
        "  (\"AIMA Chapter 1.1 What is AI?\", chapter1_1),\n",
        "  (\"AIMA Chapter 27.1 The Limits of AI\", chapter27_1),\n",
        "  (\"AIMA Chapter 27.1 Can Machines Really Think?\", chapter27_2),\n",
        "  (\"AIMA 2.1 Agents and Environments\", chapter2_1),\n",
        "  (\"AIMA 2.2 Good Behavior: The Concept of Rationality\", chapter2_2),\n",
        "  (\"AIMA 2.3 The Nature of Environments\", chapter2_3),\n",
        "  (\"AIMA 2.4 The Structure of Agents\", chapter2_4),\n",
        "  (\"Module 1 Lecture Notes\", module1_lecture_notes),\n",
        "]\n",
        "\n",
        "\n",
        "def length_check(sections):\n",
        "  warnings = \"\"\n",
        "  for section, summary in sections:\n",
        "    max_word_length = 500\n",
        "    max_character_length = 3000\n",
        "    if \"lecture\" in section.lower():\n",
        "      # It's OK to do longer summaries of the lectures\n",
        "      max_word_length = 2000\n",
        "      max_character_length = 12000\n",
        "    if (len(summary) > max_character_length or len(summary.split(' ')) > max_word_length):\n",
        "      warnings += \"WARNING: Your summary of '{section}' is too long!\\n\".format(section=section)\n",
        "  return warnings\n",
        "\n",
        "def length_check_definitions(definitions):\n",
        "  warnings = \"\"\n",
        "  for concept, definition in definitions.items():\n",
        "    if(len(definition.split(' ')) > 20):\n",
        "      warnings += \"WARNING: Your definition of '{concept}' is too long!\\n\".format(concept=concept)\n",
        "  return warnings\n",
        "\n",
        "\n",
        "def include_figures(figures):\n",
        "  # Checks if there are any figures with explanations.\n",
        "  for figure, explanation in figures.items():\n",
        "    if explanation != \"\":\n",
        "      return True\n",
        "  return False\n",
        "\n",
        "def format_module(module_num, title, sections, definitions, figures, show_placeholder=False):\n",
        "  markdown = \"\"\n",
        "\n",
        "  # Check summary lengths\n",
        "  warnings = length_check(sections)\n",
        "  if warnings != \"\":\n",
        "    markdown += \"## \" + warnings\n",
        "\n",
        "  # Check definition lengths\n",
        "  warnings = length_check_definitions(definitions)\n",
        "  if warnings != \"\":\n",
        "    markdown += \"## \" + warnings\n",
        "\n",
        "  markdown += \"# Module {num}: {title}\\n\".format(num=module_num, title=title)\n",
        "\n",
        "\n",
        "  for section, summary in sections:\n",
        "    if show_placeholder and summary == \" Your summary here \":\n",
        "      summary = placeholder\n",
        "    markdown += \"## {section}\\n{summary}\\n\\n\".format(section=section, summary=summary)\n",
        "\n",
        "  markdown += \"## Module {num} Definitions\\n\".format(num=module_num)\n",
        "  for concept, definition in definitions.items():\n",
        "    markdown += \"* **{concept}** - {definition}\\n\".format(concept=concept.capitalize(), definition=definition)\n",
        "\n",
        "  if include_figures(figures):\n",
        "    markdown += \"\\n\\n## Module {num} Figures\\n\".format(num=module_num)\n",
        "    for figure, explanation in figures.items():\n",
        "      if explanation == \"\":\n",
        "        continue\n",
        "      markdown += get_figure_markdown(figure) + \"\\n\\n\"\n",
        "      markdown += \"* **{figure}** - {explanation}\\n\".format(figure=figure.capitalize(), explanation=explanation)\n",
        "\n",
        "\n",
        "  return markdown\n",
        "\n",
        "\n",
        "module1_markdown = format_module(1, \"Rational Agents and Task Environments\",\n",
        "                                 module1_sections,\n",
        "                                 module1_definitions,\n",
        "                                 module1_figure_explanations)\n",
        "display(Markdown(module1_markdown))"
      ],
      "execution_count": null,
      "outputs": [
        {
          "output_type": "display_data",
          "data": {
            "text/plain": [
              "<IPython.core.display.Markdown object>"
            ],
            "text/markdown": "# Module 1: Rational Agents and Task Environments\n## AIMA Chapter 1.1 What is AI?\n Chapter 1.1 summary. \n\n```\ndef my_method(arg_1, arg_2):\n  for item in arg_1:\n    print(item)\n\n```\n\n$ \\sum_{n=0}^{N} n = b^2 $\n\n\n\n## AIMA Chapter 27.1 The Limits of AI\n Your summary here \n\n## AIMA Chapter 27.1 Can Machines Really Think?\n Your summary here \n\n## AIMA 2.1 Agents and Environments\n Your summary here \n\n## AIMA 2.2 Good Behavior: The Concept of Rationality\n Your summary here \n\n## AIMA 2.3 The Nature of Environments\n Your summary here \n\n## AIMA 2.4 The Structure of Agents\n Your summary here \n\n## Module 1 Lecture Notes\n Your summary here \n\n## Module 1 Definitions\n* **Agent** - anything that can perceive and act in an environment\n* **Percept** - your definitions here\n* **Other concept** - your definitions here\n* **Etc.** - your definitions here\n\n\n## Module 1 Figures\n<img src=\"https://www.cis.upenn.edu/~ccb/data/smart-textbook/AIMA_figures/figure_1.3.jpg\" alt=\"Figure 1.3\" width=\"75%\"/>\n\n* **Figure 1.3** - Blocksworld was an early AI system that allowed users to say commands in natural language in order to have a robotic arm move blocks in a computer simulation.  To work successfully the AI must understand human language in a somewhat similar way to Turing's test of computer intelligence. \n"
          },
          "metadata": {}
        }
      ]
    },
    {
      "cell_type": "markdown",
      "metadata": {
        "id": "9xRbdqDox2zD"
      },
      "source": [
        "# Optional - Python Notes"
      ]
    },
    {
      "cell_type": "code",
      "metadata": {
        "id": "DpBvu7EMx7sy"
      },
      "source": [
        "# No readings for this module.  Instead you can summarize the lecture instead.\n",
        "\n",
        "# Python notes\n",
        "python_notes = \"\"\" Your summary here \"\"\"\n",
        "\n",
        "# Each definition should be at most 20 words long.\n",
        "python_definitions = {\n",
        "\"mutability\" : \"your definition here\",\n",
        "}\n"
      ],
      "execution_count": null,
      "outputs": []
    },
    {
      "cell_type": "code",
      "metadata": {
        "id": "ydOK__lwWgdp",
        "colab": {
          "base_uri": "https://localhost:8080/",
          "height": 210
        },
        "outputId": "07fb4396-b3d4-4899-dafc-b227223c75e3"
      },
      "source": [
        "#@title Preview of your summary\n",
        "#@markdown You don't need to modify anything in this cell. Just press play.\n",
        "\n",
        "python_sections = [\n",
        "  (\"Python Notes\", python_notes),\n",
        "]\n",
        "\n",
        "python_markdown = format_module(1, \"Python\",\n",
        "                                 python_sections,\n",
        "                                 python_definitions,\n",
        "                                 {})\n",
        "display(Markdown(python_markdown))"
      ],
      "execution_count": null,
      "outputs": [
        {
          "output_type": "display_data",
          "data": {
            "text/plain": [
              "<IPython.core.display.Markdown object>"
            ],
            "text/markdown": "# Module 1: Python\n## Python Notes\n Your summary here \n\n## Module 1 Definitions\n* **Mutability** - your definition here\n"
          },
          "metadata": {}
        }
      ]
    },
    {
      "cell_type": "markdown",
      "metadata": {
        "id": "46MQLR-Gx8dZ"
      },
      "source": [
        "#Module 2 - Search Problems"
      ]
    },
    {
      "cell_type": "code",
      "metadata": {
        "id": "BN0b1eVYx-nd"
      },
      "source": [
        "# Russell and Norvig, AIMA 4th Edition, AIMA Chapter 3 “Problem Solving by Search” (3.1-3.4)\n",
        "chapter3_1 = \"\"\" Your summary here \"\"\"\n",
        "chapter3_2 = \"\"\" Your summary here \"\"\"\n",
        "chapter3_3 = \"\"\" Your summary here \"\"\"\n",
        "chapter3_4 = \"\"\" Your summary here \"\"\"\n",
        "\n",
        "\n",
        "# Lecture notes\n",
        "module2_lecture_notes = \"\"\" Your summary here \"\"\"\n",
        "\n",
        "# Definitions of concepts from Module 3.\n",
        "# You can define any bolded term in the textbook,\n",
        "# but you most use your own words for the definitions.\n",
        "# Each definition should be at most 20 words long.\n",
        "module2_definitions = {\n",
        "\"problem-solving agent\" : \"an agent that can formulate a plan via search\",\n",
        "}\n",
        "\n",
        "\n",
        "\n",
        "# You can include explanations for any figure in the textbook.\n",
        "# The figure will appear in your notes along with your explanation.\n",
        "module2_figure_explanations = {\n",
        "\"Figure 3.2\" : \"Your explanation here\"\n",
        "}\n",
        "\n"
      ],
      "execution_count": null,
      "outputs": []
    },
    {
      "cell_type": "code",
      "metadata": {
        "id": "lvtN3p7ET3Tx",
        "colab": {
          "base_uri": "https://localhost:8080/",
          "height": 872
        },
        "outputId": "450ddc38-348a-42db-f426-cbf1eabfd99c"
      },
      "source": [
        "#@title Preview of your summary\n",
        "#@markdown You don't need to modify anything in this cell. Just press play.\n",
        "module2_sections = [\n",
        "  (\"AIMA Chapter 3.1 Problem-Solving Agents\", chapter3_1),\n",
        "  (\"AIMA Chapter 3.2 Example Problems\", chapter3_2),\n",
        "  (\"AIMA Chapter 3.3 Search Algorithms\", chapter3_3),\n",
        "  (\"AIMA Chapter 3.4 Uninformed Search Strategies\", chapter3_4),\n",
        "  (\"Module 2 Lecture Notes\", module2_lecture_notes),\n",
        "]\n",
        "\n",
        "module2_markdown = format_module(2, \"Search Problems\",\n",
        "                                 module2_sections,\n",
        "                                 module2_definitions,\n",
        "                                 module2_figure_explanations)\n",
        "display(Markdown(module2_markdown))"
      ],
      "execution_count": null,
      "outputs": [
        {
          "output_type": "display_data",
          "data": {
            "text/plain": [
              "<IPython.core.display.Markdown object>"
            ],
            "text/markdown": "# Module 2: Search Problems\n## AIMA Chapter 3.1 Problem-Solving Agents\n Your summary here \n\n## AIMA Chapter 3.2 Example Problems\n Your summary here \n\n## AIMA Chapter 3.3 Search Algorithms\n Your summary here \n\n## AIMA Chapter 3.4 Uninformed Search Strategies\n Your summary here \n\n## Module 2 Lecture Notes\n Your summary here \n\n## Module 2 Definitions\n* **Problem-solving agent** - an agent that can formulate a plan via search\n\n\n## Module 2 Figures\n<img src=\"https://www.cis.upenn.edu/~ccb/data/smart-textbook/AIMA_figures/figure_3.2.jpg\" alt=\"Figure 3.2\" width=\"75%\"/>\n\n* **Figure 3.2** - Your explanation here\n"
          },
          "metadata": {}
        }
      ]
    },
    {
      "cell_type": "markdown",
      "metadata": {
        "id": "WHREsHSSyA-h"
      },
      "source": [
        "#Module 3 - Informed Search"
      ]
    },
    {
      "cell_type": "code",
      "metadata": {
        "id": "tuFC8w7CyCns"
      },
      "source": [
        "# Russell and Norvig, AIMA Chapter 3 “Problem Solving by Search” (3.5-3.6)\n",
        "chapter3_5 = \"\"\" Your summary here \"\"\"\n",
        "chapter3_6 = \"\"\" Your summary here \"\"\"\n",
        "\n",
        "\n",
        "# Lecture notes\n",
        "module3_lecture_notes = \"\"\" Your summary here \"\"\"\n",
        "\n",
        "# Definitions\n",
        "module3_definitions = {\n",
        "\"concept\" : \"definition\",\n",
        "}\n",
        "\n",
        "\n",
        "# You can include explanations for any figure in the textbook.\n",
        "# The figure will appear in your notes along with your explanation.\n",
        "module3_figure_explanations = {\n",
        "\"Figure 3.13\" : \"\"\n",
        "}\n",
        "\n"
      ],
      "execution_count": null,
      "outputs": []
    },
    {
      "cell_type": "code",
      "metadata": {
        "id": "vqtEs0gHs9sO",
        "colab": {
          "base_uri": "https://localhost:8080/",
          "height": 344
        },
        "outputId": "7c9ed2e2-ac43-401a-a63e-1287275a8cbc"
      },
      "source": [
        "#@title Preview of your summary\n",
        "#@markdown You don't need to modify anything in this cell. Just press play.\n",
        "module3_sections = [\n",
        "  (\"AIMA Chapter 3.5 Informed (Heuristic) Search Strategies\", chapter3_5),\n",
        "  (\"AIMA Chapter 3.6 Heuristic Functions\", chapter3_6),\n",
        "  (\"Module 3 Lecture Notes\", module3_lecture_notes),\n",
        "]\n",
        "\n",
        "module3_markdown = format_module(3, \"Informed Search\",\n",
        "                         module3_sections,\n",
        "                         module3_definitions,\n",
        "                         module3_figure_explanations)\n",
        "display(Markdown(module3_markdown))"
      ],
      "execution_count": null,
      "outputs": [
        {
          "output_type": "display_data",
          "data": {
            "text/plain": [
              "<IPython.core.display.Markdown object>"
            ],
            "text/markdown": "# Module 3: Informed Search\n## AIMA Chapter 3.5 Informed (Heuristic) Search Strategies\n Your summary here \n\n## AIMA Chapter 3.6 Heuristic Functions\n Your summary here \n\n## Module 3 Lecture Notes\n Your summary here \n\n## Module 3 Definitions\n* **Concept** - definition\n"
          },
          "metadata": {}
        }
      ]
    },
    {
      "cell_type": "markdown",
      "metadata": {
        "id": "F3FPMzG9yUls"
      },
      "source": [
        "#Module 4 - Adversarial Search and Games"
      ]
    },
    {
      "cell_type": "code",
      "metadata": {
        "id": "iEIOpL7vyWcc"
      },
      "source": [
        "# Russell and Norvig, AIMA chapter 5 \"Adversarial Search\"”\" (5.1-5.3, and 5.5).\n",
        "chapter5_1 = \"\"\" Your summary here \"\"\"\n",
        "chapter5_2 = \"\"\" Your summary here \"\"\"\n",
        "chapter5_3 = \"\"\" Your summary here \"\"\"\n",
        "chapter5_5 = \"\"\" Your summary here \"\"\"\n",
        "\n",
        "# Russell and Norvig, AIMA Chapter 16 “Making Simple Decisions” (16.1-16.3)\n",
        "chapter16_1 = \"\"\" Your summary here \"\"\"\n",
        "chapter16_2 = \"\"\" Your summary here \"\"\"\n",
        "chapter16_3 = \"\"\" Your summary here \"\"\"\n",
        "\n",
        "# Lecture notes\n",
        "module4_lecture_notes = \"\"\" Your summary here \"\"\"\n",
        "\n",
        "# Definitions\n",
        "module4_definitions = {\n",
        "\"concept\" : \"definition\",\n",
        "}\n",
        "\n",
        "# Figures with explanlations\n",
        "module4_figure_explanations = {\n",
        "\"Figure 5.5\" : \"\"\n",
        "}\n"
      ],
      "execution_count": null,
      "outputs": []
    },
    {
      "cell_type": "code",
      "metadata": {
        "id": "KUc_LgzDvWf-",
        "colab": {
          "base_uri": "https://localhost:8080/",
          "height": 678
        },
        "outputId": "7fb3b15f-6f69-4b56-c3da-d09080c82938"
      },
      "source": [
        "#@title Preview of your summary\n",
        "#@markdown You don't need to modify anything in this cell. Just press play.\n",
        "module4_sections = [\n",
        "  (\"AIMA Chapter 5.1 Game Theory\", chapter5_1),\n",
        "  (\"AIMA Chapter 5.2 Optimal Decisions in Games\", chapter5_2),\n",
        "  (\"AIMA Chapter 5.3 Heuristic Alpha–Beta Tree Search\", chapter5_3),\n",
        "  (\"AIMA Chapter 5.5 Stochastic Games\", chapter5_5),\n",
        "  (\"AIMA Chapter 16.1 Combining Beliefs and Desires under Uncertainty\", chapter16_1),\n",
        "  (\"AIMA Chapter 16.2 The Basis of Utility Theory\", chapter16_2),\n",
        "  (\"AIMA Chapter 16.3 Utility Functions\", chapter16_3),\n",
        "  (\"Module 4 Lecture Notes\", module4_lecture_notes),\n",
        "]\n",
        "\n",
        "module4_markdown = format_module(4, \"Adversarial Search and Games\",\n",
        "                         module4_sections,\n",
        "                         module4_definitions,\n",
        "                         module4_figure_explanations)\n",
        "display(Markdown(module4_markdown))"
      ],
      "execution_count": null,
      "outputs": [
        {
          "output_type": "display_data",
          "data": {
            "text/plain": [
              "<IPython.core.display.Markdown object>"
            ],
            "text/markdown": "# Module 4: Adversarial Search and Games\n## AIMA Chapter 5.1 Game Theory\n Your summary here \n\n## AIMA Chapter 5.2 Optimal Decisions in Games\n Your summary here \n\n## AIMA Chapter 5.3 Heuristic Alpha–Beta Tree Search\n Your summary here \n\n## AIMA Chapter 5.5 Stochastic Games\n Your summary here \n\n## AIMA Chapter 16.1 Combining Beliefs and Desires under Uncertainty\n Your summary here \n\n## AIMA Chapter 16.2 The Basis of Utility Theory\n Your summary here \n\n## AIMA Chapter 16.3 Utility Functions\n Your summary here \n\n## Module 4 Lecture Notes\n Your summary here \n\n## Module 4 Definitions\n* **Concept** - definition\n"
          },
          "metadata": {}
        }
      ]
    },
    {
      "cell_type": "markdown",
      "metadata": {
        "id": "qVSQhTVSyYYO"
      },
      "source": [
        "#Module 5 - \"Constraint Satisfaction Problems\""
      ]
    },
    {
      "cell_type": "code",
      "metadata": {
        "id": "Wm4mfW82yaRH"
      },
      "source": [
        "# Russell and Norvig, AIMA, Chapter 6 “Constraint Satisfaction Problems” (6.1-6.5)\n",
        "chapter6_1 = \"\"\" Your summary here \"\"\"\n",
        "chapter6_2 = \"\"\" Your summary here \"\"\"\n",
        "chapter6_3 = \"\"\" Your summary here \"\"\"\n",
        "chapter6_4 = \"\"\" Your summary here \"\"\"\n",
        "chapter6_5 = \"\"\" Your summary here \"\"\"\n",
        "\n",
        "\n",
        "# Lecture notes\n",
        "module5_lecture_notes = \"\"\" Your summary here \"\"\"\n",
        "\n",
        "# Definitions\n",
        "module5_definitions = {\n",
        "\"concept\" : \"definition\",\n",
        "}\n",
        "\n",
        "# Figures with explanlations\n",
        "module5_figure_explanations = {\n",
        "\"Figure 6.4\" : \"\"\n",
        "}\n"
      ],
      "execution_count": null,
      "outputs": []
    },
    {
      "cell_type": "code",
      "metadata": {
        "cellView": "form",
        "id": "kKWbCsbfxL3R",
        "colab": {
          "base_uri": "https://localhost:8080/",
          "height": 544
        },
        "outputId": "1e5da184-9908-4ed0-de2b-65e49ef117ce"
      },
      "source": [
        "#@title Preview of your summary\n",
        "#@markdown You don't need to modify anything in this cell. Just press play.\n",
        "module5_sections = [\n",
        "  (\"AIMA Chapter 6.1 Defining Constraint Satisfaction Problems\", chapter6_1),\n",
        "  (\"AIMA Chapter 6.2 Constraint Propagation: Inference in CSPs\", chapter6_2),\n",
        "  (\"AIMA Chapter 6.3 Backtracking Search for CSPs\", chapter6_3),\n",
        "  (\"AIMA Chapter 6.4 Local Search for CSPs\", chapter6_4),\n",
        "  (\"AIMA Chapter 6.5 The Structure of Problems\", chapter6_5),\n",
        "  (\"Module 5 Lecture Notes\", module5_lecture_notes),\n",
        "]\n",
        "\n",
        "module5_markdown = format_module(5, \"Constraint Satisfaction Problems\",\n",
        "                         module5_sections,\n",
        "                         module5_definitions,\n",
        "                         module5_figure_explanations)\n",
        "display(Markdown(module5_markdown))"
      ],
      "execution_count": null,
      "outputs": [
        {
          "output_type": "display_data",
          "data": {
            "text/plain": [
              "<IPython.core.display.Markdown object>"
            ],
            "text/markdown": "# Module 5: Constraint Satisfaction Problems\n## AIMA Chapter 6.1 Defining Constraint Satisfaction Problems\n Your summary here \n\n## AIMA Chapter 6.2 Constraint Propagation: Inference in CSPs\n Your summary here \n\n## AIMA Chapter 6.3 Backtracking Search for CSPs\n Your summary here \n\n## AIMA Chapter 6.4 Local Search for CSPs\n Your summary here \n\n## AIMA Chapter 6.5 The Structure of Problems\n Your summary here \n\n## Module 5 Lecture Notes\n Your summary here \n\n## Module 5 Definitions\n* **Concept** - definition\n"
          },
          "metadata": {}
        }
      ]
    },
    {
      "cell_type": "markdown",
      "metadata": {
        "id": "RYESi2kMybL8"
      },
      "source": [
        "#Module 6 - Logical Agents"
      ]
    },
    {
      "cell_type": "code",
      "metadata": {
        "id": "qIRJ4YYCzNHL"
      },
      "source": [
        "# Russell and Norvig, AIMA Chapter 7 “Logical Agents” (Sections 7.1-7.5)\n",
        "\n",
        "chapter7_1 = \"\"\" Your summary here \"\"\"\n",
        "chapter7_2 = \"\"\" Your summary here \"\"\"\n",
        "chapter7_3 = \"\"\" Your summary here \"\"\"\n",
        "chapter7_4 = \"\"\" Your summary here \"\"\"\n",
        "chapter7_5 = \"\"\" Your summary here \"\"\"\n",
        "\n",
        "# Lecture notes\n",
        "module6_lecture_notes = \"\"\" Your summary here \"\"\"\n",
        "\n",
        "# Definitions\n",
        "module6_definitions = {\n",
        "\"concept\" : \"definition\",\n",
        "}\n",
        "\n",
        "\n",
        "# Figures with explanlations\n",
        "module6_figure_explanations = {\n",
        "\"Figure 7.8\" : \"\"\n",
        "}"
      ],
      "execution_count": null,
      "outputs": []
    },
    {
      "cell_type": "code",
      "metadata": {
        "cellView": "form",
        "id": "lXNcHuKjyNXa",
        "colab": {
          "base_uri": "https://localhost:8080/",
          "height": 544
        },
        "outputId": "eeeb2330-8970-42e2-c15e-3d9ae52e9822"
      },
      "source": [
        "#@title Preview of your summary\n",
        "#@markdown You don't need to modify anything in this cell. Just press play.\n",
        "module6_sections = [\n",
        "  (\"AIMA Chapter 7.1 Knowledge-Based Agents\", chapter7_1),\n",
        "  (\"AIMA Chapter 7.2 The Wumpus World\", chapter7_2),\n",
        "  (\"AIMA Chapter 7.3 Logic\", chapter7_3),\n",
        "  (\"AIMA Chapter 7.4 Propositional Logic: A Very Simple Logic\", chapter7_4),\n",
        "  (\"AIMA 7.5 Propositional Theorem Proving\", chapter7_5),\n",
        "  (\"Module 6 Lecture Notes\", module6_lecture_notes),\n",
        "]\n",
        "\n",
        "module6_markdown = format_module(6, \"Logical Agents\",\n",
        "                         module6_sections,\n",
        "                         module6_definitions,\n",
        "                         module6_figure_explanations)\n",
        "display(Markdown(module6_markdown))"
      ],
      "execution_count": null,
      "outputs": [
        {
          "output_type": "display_data",
          "data": {
            "text/plain": [
              "<IPython.core.display.Markdown object>"
            ],
            "text/markdown": "# Module 6: Logical Agents\n## AIMA Chapter 7.1 Knowledge-Based Agents\n Your summary here \n\n## AIMA Chapter 7.2 The Wumpus World\n Your summary here \n\n## AIMA Chapter 7.3 Logic\n Your summary here \n\n## AIMA Chapter 7.4 Propositional Logic: A Very Simple Logic\n Your summary here \n\n## AIMA 7.5 Propositional Theorem Proving\n Your summary here \n\n## Module 6 Lecture Notes\n Your summary here \n\n## Module 6 Definitions\n* **Concept** - definition\n"
          },
          "metadata": {}
        }
      ]
    },
    {
      "cell_type": "markdown",
      "metadata": {
        "id": "vX7lbnJd4sT5"
      },
      "source": [
        "# Your Exam Notes\n",
        "\n",
        "Here are your full set of exam notes that you can use on your midterm.  Choose **Runtime > Run all**, then your notes will be displayed.\n",
        "\n",
        "If you are taking the exam in person, then you must print a copy of your notes for yourself.   Here's how to print:\n",
        "* Run the cell below.\n",
        "* Click its \"Mirror cell in tab\" button (this is located in the upper right corner of the cell, immediately to the left of the trash can icon).  This will open the cell.  \n",
        "* In Chrome, you can then print your notes using the **File > Print** option from the browser's menu.  \n",
        "* In the print options, change the layout from Landscape to Portrait.\n",
        "* Clicking the Save, will save a PDF that you can then print.\n",
        "* If you're having trouble printing directly from Colab, try copying and pasting the formatted output (below) into a Google doc and printing from there.\n"
      ]
    },
    {
      "cell_type": "code",
      "metadata": {
        "colab": {
          "base_uri": "https://localhost:8080/",
          "height": 1000
        },
        "id": "T3cm1WV542_a",
        "outputId": "5f548c57-a3e5-466f-f4f9-125fe88d320b"
      },
      "source": [
        "# This will generate the full set of notes that you can use for your exam.\n",
        "full_markdown = \"\\n\\n\".join([module1_markdown,\n",
        "                             python_markdown,\n",
        "                             module2_markdown,\n",
        "                             module2_markdown,\n",
        "                             module3_markdown,\n",
        "                             module4_markdown,\n",
        "                             module5_markdown,\n",
        "                             module6_markdown,]\n",
        "                       )\n",
        "display(Markdown(full_markdown))"
      ],
      "execution_count": null,
      "outputs": [
        {
          "output_type": "display_data",
          "data": {
            "text/plain": [
              "<IPython.core.display.Markdown object>"
            ],
            "text/markdown": "# Module 1: Rational Agents and Task Environments\n## AIMA Chapter 1.1 What is AI?\n Chapter 1.1 summary. \n\n```\ndef my_method(arg_1, arg_2):\n  for item in arg_1:\n    print(item)\n\n```\n\n$ \\sum_{n=0}^{N} n = b^2 $\n\n\n\n## AIMA Chapter 27.1 The Limits of AI\n Your summary here \n\n## AIMA Chapter 27.1 Can Machines Really Think?\n Your summary here \n\n## AIMA 2.1 Agents and Environments\n Your summary here \n\n## AIMA 2.2 Good Behavior: The Concept of Rationality\n Your summary here \n\n## AIMA 2.3 The Nature of Environments\n Your summary here \n\n## AIMA 2.4 The Structure of Agents\n Your summary here \n\n## Module 1 Lecture Notes\n Your summary here \n\n## Module 1 Definitions\n* **Agent** - anything that can perceive and act in an environment\n* **Percept** - your definitions here\n* **Other concept** - your definitions here\n* **Etc.** - your definitions here\n\n\n## Module 1 Figures\n<img src=\"https://www.cis.upenn.edu/~ccb/data/smart-textbook/AIMA_figures/figure_1.3.jpg\" alt=\"Figure 1.3\" width=\"75%\"/>\n\n* **Figure 1.3** - Blocksworld was an early AI system that allowed users to say commands in natural language in order to have a robotic arm move blocks in a computer simulation.  To work successfully the AI must understand human language in a somewhat similar way to Turing's test of computer intelligence. \n\n\n# Module 1: Python\n## Python Notes\n Your summary here \n\n## Module 1 Definitions\n* **Mutability** - your definition here\n\n\n# Module 2: Search Problems\n## AIMA Chapter 3.1 Problem-Solving Agents\n Your summary here \n\n## AIMA Chapter 3.2 Example Problems\n Your summary here \n\n## AIMA Chapter 3.3 Search Algorithms\n Your summary here \n\n## AIMA Chapter 3.4 Uninformed Search Strategies\n Your summary here \n\n## Module 2 Lecture Notes\n Your summary here \n\n## Module 2 Definitions\n* **Problem-solving agent** - an agent that can formulate a plan via search\n\n\n## Module 2 Figures\n<img src=\"https://www.cis.upenn.edu/~ccb/data/smart-textbook/AIMA_figures/figure_3.2.jpg\" alt=\"Figure 3.2\" width=\"75%\"/>\n\n* **Figure 3.2** - Your explanation here\n\n\n# Module 2: Search Problems\n## AIMA Chapter 3.1 Problem-Solving Agents\n Your summary here \n\n## AIMA Chapter 3.2 Example Problems\n Your summary here \n\n## AIMA Chapter 3.3 Search Algorithms\n Your summary here \n\n## AIMA Chapter 3.4 Uninformed Search Strategies\n Your summary here \n\n## Module 2 Lecture Notes\n Your summary here \n\n## Module 2 Definitions\n* **Problem-solving agent** - an agent that can formulate a plan via search\n\n\n## Module 2 Figures\n<img src=\"https://www.cis.upenn.edu/~ccb/data/smart-textbook/AIMA_figures/figure_3.2.jpg\" alt=\"Figure 3.2\" width=\"75%\"/>\n\n* **Figure 3.2** - Your explanation here\n\n\n# Module 3: Informed Search\n## AIMA Chapter 3.5 Informed (Heuristic) Search Strategies\n Your summary here \n\n## AIMA Chapter 3.6 Heuristic Functions\n Your summary here \n\n## Module 3 Lecture Notes\n Your summary here \n\n## Module 3 Definitions\n* **Concept** - definition\n\n\n# Module 4: Adversarial Search and Games\n## AIMA Chapter 5.1 Game Theory\n Your summary here \n\n## AIMA Chapter 5.2 Optimal Decisions in Games\n Your summary here \n\n## AIMA Chapter 5.3 Heuristic Alpha–Beta Tree Search\n Your summary here \n\n## AIMA Chapter 5.5 Stochastic Games\n Your summary here \n\n## AIMA Chapter 16.1 Combining Beliefs and Desires under Uncertainty\n Your summary here \n\n## AIMA Chapter 16.2 The Basis of Utility Theory\n Your summary here \n\n## AIMA Chapter 16.3 Utility Functions\n Your summary here \n\n## Module 4 Lecture Notes\n Your summary here \n\n## Module 4 Definitions\n* **Concept** - definition\n\n\n# Module 5: Constraint Satisfaction Problems\n## AIMA Chapter 6.1 Defining Constraint Satisfaction Problems\n Your summary here \n\n## AIMA Chapter 6.2 Constraint Propagation: Inference in CSPs\n Your summary here \n\n## AIMA Chapter 6.3 Backtracking Search for CSPs\n Your summary here \n\n## AIMA Chapter 6.4 Local Search for CSPs\n Your summary here \n\n## AIMA Chapter 6.5 The Structure of Problems\n Your summary here \n\n## Module 5 Lecture Notes\n Your summary here \n\n## Module 5 Definitions\n* **Concept** - definition\n\n\n# Module 6: Logical Agents\n## AIMA Chapter 7.1 Knowledge-Based Agents\n Your summary here \n\n## AIMA Chapter 7.2 The Wumpus World\n Your summary here \n\n## AIMA Chapter 7.3 Logic\n Your summary here \n\n## AIMA Chapter 7.4 Propositional Logic: A Very Simple Logic\n Your summary here \n\n## AIMA 7.5 Propositional Theorem Proving\n Your summary here \n\n## Module 6 Lecture Notes\n Your summary here \n\n## Module 6 Definitions\n* **Concept** - definition\n"
          },
          "metadata": {}
        }
      ]
    }
  ]
}